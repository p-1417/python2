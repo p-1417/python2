{
  "nbformat": 4,
  "nbformat_minor": 0,
  "metadata": {
    "colab": {
      "name": "day-5(03/12/19)",
      "provenance": [],
      "include_colab_link": true
    },
    "kernelspec": {
      "name": "python3",
      "display_name": "Python 3"
    }
  },
  "cells": [
    {
      "cell_type": "markdown",
      "metadata": {
        "id": "view-in-github",
        "colab_type": "text"
      },
      "source": [
        "<a href=\"https://colab.research.google.com/github/p-1417/python2/blob/master/day_5(03_12_19).ipynb\" target=\"_parent\"><img src=\"https://colab.research.google.com/assets/colab-badge.svg\" alt=\"Open In Colab\"/></a>"
      ]
    },
    {
      "cell_type": "markdown",
      "metadata": {
        "id": "lRQXD3KV8nE_",
        "colab_type": "text"
      },
      "source": [
        "# Python Programming\n",
        "## Python programming\n",
        "### python programming\n",
        "#### python programming\n",
        "##### python programming\n",
        "###### python programming\n"
      ]
    },
    {
      "cell_type": "markdown",
      "metadata": {
        "id": "de15QS7c69rN",
        "colab_type": "text"
      },
      "source": [
        ""
      ]
    },
    {
      "cell_type": "markdown",
      "metadata": {
        "id": "r_7X3pUt9x3-",
        "colab_type": "text"
      },
      "source": [
        "\n",
        "\n",
        "1.  Python basic\n",
        "2.  Python advance\n",
        "3.  Python program\n",
        "\n",
        "\n",
        "\n"
      ]
    },
    {
      "cell_type": "code",
      "metadata": {
        "id": "J2nzE7Ia-JLY",
        "colab_type": "code",
        "colab": {}
      },
      "source": [
        ""
      ],
      "execution_count": 0,
      "outputs": []
    },
    {
      "cell_type": "markdown",
      "metadata": {
        "id": "JdaoOreB_BrX",
        "colab_type": "text"
      },
      "source": [
        "![image](https://encrypted-tbn0.gstatic.com/images?q=tbn:ANd9GcRu8nvwEllPp_1q845PAggAx4WAgvOePM-WMnsOfDLk_QNc44oY&s)"
      ]
    },
    {
      "cell_type": "code",
      "metadata": {
        "id": "sC-Jw6fg_Tqv",
        "colab_type": "code",
        "colab": {}
      },
      "source": [
        ""
      ],
      "execution_count": 0,
      "outputs": []
    },
    {
      "cell_type": "markdown",
      "metadata": {
        "id": "Z4HWQp86AaVm",
        "colab_type": "text"
      },
      "source": [
        "[click here](https://www.google.com/)"
      ]
    },
    {
      "cell_type": "code",
      "metadata": {
        "id": "UcK4RB0NDjKG",
        "colab_type": "code",
        "outputId": "115a1dc0-9460-4da9-abbc-f8b4b1cd6571",
        "colab": {
          "base_uri": "https://localhost:8080/",
          "height": 34
        }
      },
      "source": [
        "print(\"hello life!\")"
      ],
      "execution_count": 0,
      "outputs": [
        {
          "output_type": "stream",
          "text": [
            "hello life!\n"
          ],
          "name": "stdout"
        }
      ]
    },
    {
      "cell_type": "code",
      "metadata": {
        "id": "q4Md_GdsF4nP",
        "colab_type": "code",
        "outputId": "ae28723e-2380-42af-ce8f-226dda965cd3",
        "colab": {
          "base_uri": "https://localhost:8080/",
          "height": 51
        }
      },
      "source": [
        "x = 15\n",
        "y = 30\n",
        "print(x + y)\n",
        "print(x - y)"
      ],
      "execution_count": 0,
      "outputs": [
        {
          "output_type": "stream",
          "text": [
            "45\n",
            "-15\n"
          ],
          "name": "stdout"
        }
      ]
    },
    {
      "cell_type": "code",
      "metadata": {
        "id": "Uww8X6J2HHNL",
        "colab_type": "code",
        "outputId": "553799c3-f9ab-4b49-bf28-6fa186127674",
        "colab": {
          "base_uri": "https://localhost:8080/",
          "height": 68
        }
      },
      "source": [
        "x = int(input(\"enter the x value\"))\n",
        "y = int(input(\"enter the y value\"))\n",
        "x + y"
      ],
      "execution_count": 0,
      "outputs": [
        {
          "output_type": "stream",
          "text": [
            "enter the x value 10\n",
            "enter the y value 20\n"
          ],
          "name": "stdout"
        },
        {
          "output_type": "execute_result",
          "data": {
            "text/plain": [
              "30"
            ]
          },
          "metadata": {
            "tags": []
          },
          "execution_count": 12
        }
      ]
    },
    {
      "cell_type": "code",
      "metadata": {
        "id": "itSNbhFOJldY",
        "colab_type": "code",
        "outputId": "c9d0ab4d-c48d-4f32-9d55-9fa7d762afa2",
        "colab": {
          "base_uri": "https://localhost:8080/",
          "height": 51
        }
      },
      "source": [
        "x = input(\"enter your name\") \n",
        "y = int(input(\"enter you age\"))"
      ],
      "execution_count": 0,
      "outputs": [
        {
          "output_type": "stream",
          "text": [
            "enter your name PRIYANKA SWAIN\n",
            "enter you age 19\n"
          ],
          "name": "stdout"
        }
      ]
    },
    {
      "cell_type": "code",
      "metadata": {
        "id": "QvKbBu5WKCGu",
        "colab_type": "code",
        "outputId": "03013bc3-a31e-4f3f-dc5c-6722de469f5d",
        "colab": {
          "base_uri": "https://localhost:8080/",
          "height": 68
        }
      },
      "source": [
        "x = input(\"my name is\") \n",
        "y = int(input(\"your age is\"))\n",
        "print(\"my name is\", x , \"and my age is\",y)"
      ],
      "execution_count": 0,
      "outputs": [
        {
          "output_type": "stream",
          "text": [
            "my name is priyanka swain\n",
            "your age is 190\n",
            "my name is  priyanka swain and my age is 190\n"
          ],
          "name": "stdout"
        }
      ]
    },
    {
      "cell_type": "code",
      "metadata": {
        "colab_type": "code",
        "outputId": "c659f2e0-18e8-461c-af1d-020cf61137a9",
        "id": "8M80PkT9MlLP",
        "colab": {
          "base_uri": "https://localhost:8080/",
          "height": 129
        }
      },
      "source": [
        "print(\"my name is\",x,\"and my age is\",y)\n"
      ],
      "execution_count": 0,
      "outputs": [
        {
          "output_type": "error",
          "ename": "SyntaxError",
          "evalue": "ignored",
          "traceback": [
            "\u001b[0;36m  File \u001b[0;32m\"<ipython-input-18-9fe0e63e2aaf>\"\u001b[0;36m, line \u001b[0;32m1\u001b[0m\n\u001b[0;31m    print(\"my name is\",x+,\"and my age is\",y)\u001b[0m\n\u001b[0m                         ^\u001b[0m\n\u001b[0;31mSyntaxError\u001b[0m\u001b[0;31m:\u001b[0m invalid syntax\n"
          ]
        }
      ]
    },
    {
      "cell_type": "code",
      "metadata": {
        "id": "2HjAdgz2LGbO",
        "colab_type": "code",
        "outputId": "c659f2e0-18e8-461c-af1d-020cf61137a9",
        "colab": {
          "base_uri": "https://localhost:8080/",
          "height": 129
        }
      },
      "source": [
        "print(\"my name is\",x+,\"and my age is\",y)\n"
      ],
      "execution_count": 0,
      "outputs": [
        {
          "output_type": "error",
          "ename": "SyntaxError",
          "evalue": "ignored",
          "traceback": [
            "\u001b[0;36m  File \u001b[0;32m\"<ipython-input-18-9fe0e63e2aaf>\"\u001b[0;36m, line \u001b[0;32m1\u001b[0m\n\u001b[0;31m    print(\"my name is\",x+,\"and my age is\",y)\u001b[0m\n\u001b[0m                         ^\u001b[0m\n\u001b[0;31mSyntaxError\u001b[0m\u001b[0;31m:\u001b[0m invalid syntax\n"
          ]
        }
      ]
    },
    {
      "cell_type": "code",
      "metadata": {
        "id": "DmsM2ObvMN_e",
        "colab_type": "code",
        "outputId": "22da5b63-a071-4d89-ec06-2e2fe74a49d0",
        "colab": {
          "base_uri": "https://localhost:8080/",
          "height": 34
        }
      },
      "source": [
        "print(\"my name is\", x ,\"and my age is\", y)"
      ],
      "execution_count": 0,
      "outputs": [
        {
          "output_type": "stream",
          "text": [
            "my name is  priyanka swain and my age is 19\n"
          ],
          "name": "stdout"
        }
      ]
    },
    {
      "cell_type": "code",
      "metadata": {
        "id": "4_dXV7WnM63_",
        "colab_type": "code",
        "outputId": "e1125d5e-0edc-421b-e7ec-21c3efb1ec30",
        "colab": {
          "base_uri": "https://localhost:8080/",
          "height": 34
        }
      },
      "source": [
        "print(\"my name is \", x ,end='  ')\n",
        "print(\" my age is \", y)"
      ],
      "execution_count": 0,
      "outputs": [
        {
          "output_type": "stream",
          "text": [
            "my name is   priyanka swain   my age is  190\n"
          ],
          "name": "stdout"
        }
      ]
    },
    {
      "cell_type": "code",
      "metadata": {
        "id": "lLdRzUekNsog",
        "colab_type": "code",
        "colab": {}
      },
      "source": [
        ""
      ],
      "execution_count": 0,
      "outputs": []
    },
    {
      "cell_type": "markdown",
      "metadata": {
        "id": "_ZDfd47YO7tB",
        "colab_type": "text"
      },
      "source": [
        "### FUNDAMENTAL DATATYPES\n",
        "\n",
        "1.  integer(INT)--> allthenumbers without decimal point\n",
        "2.   FLOAT--> numbers with decimal points\n",
        "3.   COMPLEX--> including a real and imaginary terms\n",
        "4.   BOOLEAN--> TRUE OR FALSE\n",
        "5.   STRING(STR)\n",
        "6.   \n",
        "\n",
        "\n"
      ]
    },
    {
      "cell_type": "code",
      "metadata": {
        "id": "oV-WRChGPpOU",
        "colab_type": "code",
        "outputId": "e3073078-318a-4317-a79b-0be45b7df0b8",
        "colab": {
          "base_uri": "https://localhost:8080/",
          "height": 34
        }
      },
      "source": [
        "}a = 3\n",
        "b = 2.67\n",
        "c = 5+6j\n",
        "d = 3+5j\n",
        "print(type(a), type(b) , type(c))"
      ],
      "execution_count": 0,
      "outputs": [
        {
          "output_type": "stream",
          "text": [
            "<class 'int'> <class 'float'> <class 'complex'>\n"
          ],
          "name": "stdout"
        }
      ]
    },
    {
      "cell_type": "code",
      "metadata": {
        "id": "_FCwM5qzQOUa",
        "colab_type": "code",
        "colab": {}
      },
      "source": [
        ""
      ],
      "execution_count": 0,
      "outputs": []
    },
    {
      "cell_type": "markdown",
      "metadata": {
        "id": "3tXWn73VSd4S",
        "colab_type": "text"
      },
      "source": [
        "# ***FUNDAMENTALS OF PYTHON***\n",
        "\n",
        "1. PYTHON IS RUN BY INTERPRETER\n",
        "2.  PYTHON IS COMPLETELY INTERPRETED PROGRAM\n",
        "3. IT IS OBJECT ORIENTED PROGRAM \n",
        "4. len used to return the number of items in a container\n",
        "5. "
      ]
    },
    {
      "cell_type": "code",
      "metadata": {
        "id": "217KAizrSyhY",
        "colab_type": "code",
        "outputId": "14a7d137-2cc3-4e1b-dfb1-cf4c9551f2b0",
        "colab": {
          "base_uri": "https://localhost:8080/",
          "height": 34
        }
      },
      "source": [
        "str1 = \"Gitam\"\n",
        "str2 =\"University\"\n",
        "str1 + str2\n"
      ],
      "execution_count": 0,
      "outputs": [
        {
          "output_type": "execute_result",
          "data": {
            "text/plain": [
              "'GitamUniversity'"
            ]
          },
          "metadata": {
            "tags": []
          },
          "execution_count": 26
        }
      ]
    },
    {
      "cell_type": "code",
      "metadata": {
        "id": "biWRa4lDVf9E",
        "colab_type": "code",
        "outputId": "668afdc0-d652-472b-ee4c-2947508005d1",
        "colab": {
          "base_uri": "https://localhost:8080/",
          "height": 34
        }
      },
      "source": [
        "len(str1)"
      ],
      "execution_count": 0,
      "outputs": [
        {
          "output_type": "execute_result",
          "data": {
            "text/plain": [
              "5"
            ]
          },
          "metadata": {
            "tags": []
          },
          "execution_count": 27
        }
      ]
    },
    {
      "cell_type": "code",
      "metadata": {
        "id": "6NYg_74yWQZK",
        "colab_type": "code",
        "outputId": "5ec8d67c-16d3-4f90-fe05-f6c97a4818e3",
        "colab": {
          "base_uri": "https://localhost:8080/",
          "height": 34
        }
      },
      "source": [
        "a = 123456789\n",
        "print(len(str(a)))"
      ],
      "execution_count": 0,
      "outputs": [
        {
          "output_type": "stream",
          "text": [
            "9\n"
          ],
          "name": "stdout"
        }
      ]
    },
    {
      "cell_type": "code",
      "metadata": {
        "id": "2ZpWQENdXXQ6",
        "colab_type": "code",
        "outputId": "7e89a2e1-3080-4a3f-f677-98b1630cc630",
        "colab": {
          "base_uri": "https://localhost:8080/",
          "height": 34
        }
      },
      "source": [
        "result = 10<20\n",
        "print(result,type(result))"
      ],
      "execution_count": 0,
      "outputs": [
        {
          "output_type": "stream",
          "text": [
            "True <class 'bool'>\n"
          ],
          "name": "stdout"
        }
      ]
    },
    {
      "cell_type": "code",
      "metadata": {
        "id": "p8cZSAxSY-st",
        "colab_type": "code",
        "colab": {}
      },
      "source": [
        ""
      ],
      "execution_count": 0,
      "outputs": []
    },
    {
      "cell_type": "markdown",
      "metadata": {
        "id": "5RmcOBx0ZD5M",
        "colab_type": "text"
      },
      "source": [
        "## OPERATORS\n",
        "\n",
        "\n",
        "1.  SYMBOLS USED TO PERFORM DIFFERENT FUNCTIONS\n",
        "2.   THE TERMS OR VARIABLES ON WHICH OPERATION IS PERFORMED ARE KNOWN AS *OPERANDS*\n",
        "### TYPES OF OPERATORS\n",
        "\n",
        "\n",
        "1.   arithmetic operators(+,-,*,/,**,//)\n",
        "2.   logical operators  (and,or,not)\n",
        "3.   relational operators (==,!=,<,>,<=,=> ).=for assing,==for compairing\n",
        "4.   membership operatos (for checking the availabilty of char)\n",
        "5.   conditional statements(else,if,elif)"
      ]
    },
    {
      "cell_type": "code",
      "metadata": {
        "id": "w89Wfuwuat66",
        "colab_type": "code",
        "outputId": "ad2f6b70-eb7e-483d-f123-24bd89c767ca",
        "colab": {
          "base_uri": "https://localhost:8080/",
          "height": 136
        }
      },
      "source": [
        "a = 12\n",
        "b = 23\n",
        "print(a+b)\n",
        "print(a-b)\n",
        "print(a*b)\n",
        "print(a/b)\n",
        "print(a%b)\n",
        "print(a**b)\n",
        "print(a//b)\n"
      ],
      "execution_count": 0,
      "outputs": [
        {
          "output_type": "stream",
          "text": [
            "35\n",
            "-11\n",
            "276\n",
            "0.5217391304347826\n",
            "12\n",
            "6624737266949237011120128\n",
            "0\n"
          ],
          "name": "stdout"
        }
      ]
    },
    {
      "cell_type": "code",
      "metadata": {
        "id": "uDRx5Z7uZHVQ",
        "colab_type": "code",
        "outputId": "4762cd01-eea1-4386-b463-5742608a8a17",
        "colab": {
          "base_uri": "https://localhost:8080/",
          "height": 68
        }
      },
      "source": [
        "#logical operators\n",
        " i = 10\n",
        " j = 20\n",
        " print(i>1 and i<20)\n",
        " print(i>12 or i<33)\n",
        " print(not i)"
      ],
      "execution_count": 0,
      "outputs": [
        {
          "output_type": "stream",
          "text": [
            "True\n",
            "True\n",
            "False\n"
          ],
          "name": "stdout"
        }
      ]
    },
    {
      "cell_type": "code",
      "metadata": {
        "id": "YsRXTs4cejHj",
        "colab_type": "code",
        "outputId": "89beddb8-45cb-4f75-d2fb-7de9928e91e7",
        "colab": {
          "base_uri": "https://localhost:8080/",
          "height": 102
        }
      },
      "source": [
        "# Relational operators\n",
        "print(i==j)\n",
        "print(i!=j)\n",
        "print(i>j)\n",
        "print(i<j)\n",
        "print(i>=j)\n"
      ],
      "execution_count": 0,
      "outputs": [
        {
          "output_type": "stream",
          "text": [
            "False\n",
            "True\n",
            "False\n",
            "True\n",
            "False\n"
          ],
          "name": "stdout"
        }
      ]
    },
    {
      "cell_type": "code",
      "metadata": {
        "id": "BZXenWf0hGa_",
        "colab_type": "code",
        "outputId": "efcd4ca5-e7a3-4fc9-9cc6-6a707926b030",
        "colab": {
          "base_uri": "https://localhost:8080/",
          "height": 51
        }
      },
      "source": [
        "#MEMBERSHIP OPERATOR\n",
        "str1='gitam'\n",
        "print('z'in str1)\n",
        "print('z'not in str1)"
      ],
      "execution_count": 0,
      "outputs": [
        {
          "output_type": "stream",
          "text": [
            "False\n",
            "True\n"
          ],
          "name": "stdout"
        }
      ]
    },
    {
      "cell_type": "markdown",
      "metadata": {
        "id": "kkZFBABUkWn7",
        "colab_type": "text"
      },
      "source": [
        ""
      ]
    },
    {
      "cell_type": "markdown",
      "metadata": {
        "id": "ELwKhOeQki17",
        "colab_type": "text"
      },
      "source": [
        "# SYNTAX"
      ]
    },
    {
      "cell_type": "markdown",
      "metadata": {
        "id": "vgy6IsxBk7zz",
        "colab_type": "text"
      },
      "source": [
        "if condition:\n",
        "\n",
        "   statement\n",
        "\n",
        "   else\n",
        "   \n",
        "     statement"
      ]
    },
    {
      "cell_type": "code",
      "metadata": {
        "id": "ukr5NSG9lOcz",
        "colab_type": "code",
        "outputId": "c1a8da65-5f7f-4cbf-cbfc-030992b6ea9d",
        "colab": {
          "base_uri": "https://localhost:8080/",
          "height": 51
        }
      },
      "source": [
        "#to check the given no. is even or odd\n",
        "n = int(input(\"enter any no.\"))\n",
        "if n%2==0:\n",
        "     print(\"even\")\n",
        "else:\n",
        "   print(\"odd\")\n"
      ],
      "execution_count": 0,
      "outputs": [
        {
          "output_type": "stream",
          "text": [
            "enter any no. 13\n",
            "odd\n"
          ],
          "name": "stdout"
        }
      ]
    },
    {
      "cell_type": "code",
      "metadata": {
        "id": "tgha3u0GlISi",
        "colab_type": "code",
        "colab": {}
      },
      "source": [
        ""
      ],
      "execution_count": 0,
      "outputs": []
    },
    {
      "cell_type": "code",
      "metadata": {
        "id": "OYut1UWTlGsp",
        "colab_type": "code",
        "colab": {}
      },
      "source": [
        ""
      ],
      "execution_count": 0,
      "outputs": []
    },
    {
      "cell_type": "code",
      "metadata": {
        "id": "DhD5t_NZlD28",
        "colab_type": "code",
        "colab": {}
      },
      "source": [
        ""
      ],
      "execution_count": 0,
      "outputs": []
    }
  ]
}