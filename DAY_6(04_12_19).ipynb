{
  "nbformat": 4,
  "nbformat_minor": 0,
  "metadata": {
    "colab": {
      "name": "DAY-6(04/12/19)",
      "provenance": [],
      "include_colab_link": true
    },
    "kernelspec": {
      "name": "python3",
      "display_name": "Python 3"
    }
  },
  "cells": [
    {
      "cell_type": "markdown",
      "metadata": {
        "id": "view-in-github",
        "colab_type": "text"
      },
      "source": [
        "<a href=\"https://colab.research.google.com/github/p-1417/python2/blob/master/DAY_6(04_12_19).ipynb\" target=\"_parent\"><img src=\"https://colab.research.google.com/assets/colab-badge.svg\" alt=\"Open In Colab\"/></a>"
      ]
    },
    {
      "cell_type": "code",
      "metadata": {
        "id": "rRtjSX86Bh-s",
        "colab_type": "code",
        "outputId": "8f726a8d-587f-4aca-d9fb-39119cf22b59",
        "colab": {
          "base_uri": "https://localhost:8080/",
          "height": 51
        }
      },
      "source": [
        "# Accept a number and check whether the given number is is divisble by 3 or not or whether it is divisible by 5 or not \n",
        "x = int(input(\"enter the  number\"))\n",
        "if (x%3==0) and (x%5==0) :\n",
        "   print('divisible by 3 and 5')\n",
        "else:\n",
        "   print('not divisible by 5 and 3')"
      ],
      "execution_count": 0,
      "outputs": [
        {
          "output_type": "stream",
          "text": [
            "enter the  number 18\n",
            "not divisible by 5 and 3\n"
          ],
          "name": "stdout"
        }
      ]
    },
    {
      "cell_type": "code",
      "metadata": {
        "id": "ZUn9va1kCKKQ",
        "colab_type": "code",
        "outputId": "772e2d82-7f9d-40b2-9877-41b2e0a2fec1",
        "colab": {
          "base_uri": "https://localhost:8080/",
          "height": 51
        }
      },
      "source": [
        "# Accept a number and check the given number is positive, negative or zero\n",
        "n = int(input(\"enter the number\"))\n",
        "if n<0:\n",
        "   print('the number is negative')\n",
        "elif n==0:\n",
        "   print('the no. is zero')\n",
        "else :\n",
        "  print('the no. is positive')\n"
      ],
      "execution_count": 0,
      "outputs": [
        {
          "output_type": "stream",
          "text": [
            "enter the number -24\n",
            "the number is negative\n"
          ],
          "name": "stdout"
        }
      ]
    },
    {
      "cell_type": "code",
      "metadata": {
        "id": "jDZKDd6iFmCg",
        "colab_type": "code",
        "outputId": "96713a37-77da-4a95-8323-43b67c9ebd19",
        "colab": {
          "base_uri": "https://localhost:8080/",
          "height": 51
        }
      },
      "source": [
        "# accept age of a person and check the person is eligible for a vote or not\n",
        "x = int(input(\"the age of a person\"))\n",
        "if x>=18:\n",
        "   print('the person is eligible for vote')\n",
        "else:\n",
        "   print('the person is not eligible for vote')"
      ],
      "execution_count": 0,
      "outputs": [
        {
          "output_type": "stream",
          "text": [
            "the age of a person 15\n",
            "the person is not eligible for vote\n"
          ],
          "name": "stdout"
        }
      ]
    },
    {
      "cell_type": "code",
      "metadata": {
        "id": "AmMTi6XyHaQl",
        "colab_type": "code",
        "colab": {}
      },
      "source": [
        "# accept 3 subjects marks for the student if the student minimum 30 marks in all the subjects then findout the average else print fail on the screen\n",
        " 1.If average is>75 print A grade\n",
        " 2.If average is>65-75 print B grade\n",
        " 3.If average is>45-65 print C grade\n",
        " 4.If average is>30-45 print D grade\n",
        " 5.If average is<30 print FAIL"
      ],
      "execution_count": 0,
      "outputs": []
    },
    {
      "cell_type": "markdown",
      "metadata": {
        "id": "ocUV4m9FInqf",
        "colab_type": "text"
      },
      "source": [
        "## LOOPS\n",
        "\n",
        "\n",
        "1.  WHILE LOOP\n",
        " syntax:\n",
        "\n",
        "  statement\n",
        "\n",
        "   while condition:\n",
        "\n",
        "   print\n",
        "2.   FOR LOOP\n",
        "syntax:\n",
        "\n",
        " for variable name **in** range(1,n+1):\n",
        "\n",
        "  print(variable name)\n"
      ]
    },
    {
      "cell_type": "code",
      "metadata": {
        "id": "e7E80BD_I1ek",
        "colab_type": "code",
        "outputId": "332e0c76-8a6d-481d-d35e-6608ed9f86a6",
        "colab": {
          "base_uri": "https://localhost:8080/",
          "height": 51
        }
      },
      "source": [
        "#PRINT NUMBERS FROM 1 TO N\n",
        "n = int(input(\"enter the number\"))\n",
        "i=1\n",
        "while i <= n:\n",
        "   print(i, end=\" \")\n",
        "   i= i + 1"
      ],
      "execution_count": 0,
      "outputs": [
        {
          "output_type": "stream",
          "text": [
            "enter the number 10\n",
            "1 2 3 4 5 6 7 8 9 10 "
          ],
          "name": "stdout"
        }
      ]
    },
    {
      "cell_type": "code",
      "metadata": {
        "id": "FCQHVSK1J9P3",
        "colab_type": "code",
        "outputId": "fc8d475e-dece-4174-f3e7-0d19d95610e2",
        "colab": {
          "base_uri": "https://localhost:8080/",
          "height": 51
        }
      },
      "source": [
        "#PRINT ONLY EVEN NUMBERS FROM 1 TO N\n",
        "i = int(input(\"enter the number\"))\n",
        "i=1\n",
        "while i<=n:\n",
        " if i%2==0:\n",
        "    print(i,end=\" \")\n",
        " i = i+1\n"
      ],
      "execution_count": 0,
      "outputs": [
        {
          "output_type": "stream",
          "text": [
            "enter the number 10\n",
            "2 4 6 8 10 "
          ],
          "name": "stdout"
        }
      ]
    },
    {
      "cell_type": "code",
      "metadata": {
        "id": "IuTduYkXK6UV",
        "colab_type": "code",
        "outputId": "7be331a2-5475-4e03-ad7e-13b54bad4389",
        "colab": {
          "base_uri": "https://localhost:8080/",
          "height": 51
        }
      },
      "source": [
        "# print sum of even numbers from 1 to N\n",
        "i = int(input(\"enter the number\"))\n",
        "i = 1\n",
        "sum = 0\n",
        "while i <= n:\n",
        " if i%2 == 0:\n",
        "   sum+=i\n",
        " i = i + 1\n",
        "print(sum)"
      ],
      "execution_count": 0,
      "outputs": [
        {
          "output_type": "stream",
          "text": [
            "enter the number 10\n",
            "30\n"
          ],
          "name": "stdout"
        }
      ]
    },
    {
      "cell_type": "code",
      "metadata": {
        "id": "Ai_Cq4bhOIM-",
        "colab_type": "code",
        "outputId": "9f800471-66a7-4341-bc68-f516252c5d0b",
        "colab": {
          "base_uri": "https://localhost:8080/",
          "height": 51
        }
      },
      "source": [
        "#extracting the digits from given number \n",
        "n = int(input(\"enter the number\"))\n",
        "while n!=0:\n",
        "  print(n%10 ,end=\" \")\n",
        "  n = n//10\n",
        " \n"
      ],
      "execution_count": 0,
      "outputs": [
        {
          "output_type": "stream",
          "text": [
            "enter the number 231\n",
            "1 3 2 "
          ],
          "name": "stdout"
        }
      ]
    },
    {
      "cell_type": "code",
      "metadata": {
        "id": "0-g8ubRaRu7p",
        "colab_type": "code",
        "colab": {}
      },
      "source": [
        "#whether the given no. is armstrong or not\n"
      ],
      "execution_count": 0,
      "outputs": []
    },
    {
      "cell_type": "code",
      "metadata": {
        "id": "pt05OV5mSkHg",
        "colab_type": "code",
        "outputId": "e4fdd9de-0a3b-4d5a-e758-c54fb200eec8",
        "colab": {
          "base_uri": "https://localhost:8080/",
          "height": 51
        }
      },
      "source": [
        "#check whether the no. is palindrome or not\n",
        "n = int(input(\"enter the number\"))\n",
        "rev = 0\n",
        "temp = n\n",
        "while n!=0:\n",
        "  r=n%10\n",
        "  rev=rev*10+r\n",
        "  n=n//10\n",
        "if rev==temp:\n",
        "  print(\"palindrome\")\n",
        "else:\n",
        "   print(\" not palindrome\")"
      ],
      "execution_count": 0,
      "outputs": [
        {
          "output_type": "stream",
          "text": [
            "enter the number 121\n",
            "palindrome\n"
          ],
          "name": "stdout"
        }
      ]
    },
    {
      "cell_type": "code",
      "metadata": {
        "id": "vfCHFJDiUhxU",
        "colab_type": "code",
        "outputId": "e8a6b27f-dbfa-435b-c5de-2bcab4810068",
        "colab": {
          "base_uri": "https://localhost:8080/",
          "height": 204
        }
      },
      "source": [
        "# print numbers from 1 to n using for loop\n",
        "n = int(input(\"enter the number\"))\n",
        "for i in range(1,n+1):\n",
        " print(i)"
      ],
      "execution_count": 0,
      "outputs": [
        {
          "output_type": "stream",
          "text": [
            "enter the number 10\n",
            "1\n",
            "2\n",
            "3\n",
            "4\n",
            "5\n",
            "6\n",
            "7\n",
            "8\n",
            "9\n",
            "10\n"
          ],
          "name": "stdout"
        }
      ]
    },
    {
      "cell_type": "code",
      "metadata": {
        "id": "49JVrvw8WJg3",
        "colab_type": "code",
        "outputId": "319607c1-7c4d-4b77-b8aa-238347198662",
        "colab": {
          "base_uri": "https://localhost:8080/",
          "height": 119
        }
      },
      "source": [
        "n = int(input(\"enter the number\"))\n",
        "for i in range(1,n+1,2):\n",
        " print(i)"
      ],
      "execution_count": 0,
      "outputs": [
        {
          "output_type": "stream",
          "text": [
            "enter the number 10\n",
            "1\n",
            "3\n",
            "5\n",
            "7\n",
            "9\n"
          ],
          "name": "stdout"
        }
      ]
    },
    {
      "cell_type": "code",
      "metadata": {
        "id": "4eWqAJYWXlUU",
        "colab_type": "code",
        "outputId": "e2acfb6d-0d2a-4961-9a42-d795c72618c8",
        "colab": {
          "base_uri": "https://localhost:8080/",
          "height": 136
        }
      },
      "source": [
        "n = int(input(\"enter the number\"))\n",
        "for i in range(0,n+1,2):\n",
        " print(i)"
      ],
      "execution_count": 0,
      "outputs": [
        {
          "output_type": "stream",
          "text": [
            "enter the number10\n",
            "0\n",
            "2\n",
            "4\n",
            "6\n",
            "8\n",
            "10\n"
          ],
          "name": "stdout"
        }
      ]
    },
    {
      "cell_type": "code",
      "metadata": {
        "id": "UB2dpZquXsWI",
        "colab_type": "code",
        "outputId": "67a694a4-777d-4718-dcc7-546bcc9151fb",
        "colab": {
          "base_uri": "https://localhost:8080/",
          "height": 51
        }
      },
      "source": [
        "n = int(input(\"enter the number\"))\n",
        "sum = 0\n",
        "for i in range(1,n+1):\n",
        "  sum = sum + i\n",
        "print(sum)"
      ],
      "execution_count": 0,
      "outputs": [
        {
          "output_type": "stream",
          "text": [
            "enter the number20\n",
            "210\n"
          ],
          "name": "stdout"
        }
      ]
    },
    {
      "cell_type": "code",
      "metadata": {
        "id": "ORmG20XjYyg-",
        "colab_type": "code",
        "outputId": "08dd097a-2ac4-49e9-8771-b850406e881e",
        "colab": {
          "base_uri": "https://localhost:8080/",
          "height": 136
        }
      },
      "source": [
        "#string using while loop\n",
        "n = input(\"enter any string\")\n",
        "length = len(n)\n",
        "i=0\n",
        "while i<length:\n",
        "  print(n[i])\n",
        "  i=i+1"
      ],
      "execution_count": 0,
      "outputs": [
        {
          "output_type": "stream",
          "text": [
            "enter any string lambu\n",
            " \n",
            "l\n",
            "a\n",
            "m\n",
            "b\n",
            "u\n"
          ],
          "name": "stdout"
        }
      ]
    },
    {
      "cell_type": "code",
      "metadata": {
        "id": "hZSgqjx4bNuG",
        "colab_type": "code",
        "outputId": "6f5609a1-dec7-4076-ce2a-d08404eab1ee",
        "colab": {
          "base_uri": "https://localhost:8080/",
          "height": 136
        }
      },
      "source": [
        "#string using for loop\n",
        "n = input(\"enter your name\")\n",
        "for i in n:\n",
        "  print(i)"
      ],
      "execution_count": 0,
      "outputs": [
        {
          "output_type": "stream",
          "text": [
            "enter your name ghost\n",
            " \n",
            "g\n",
            "h\n",
            "o\n",
            "s\n",
            "t\n"
          ],
          "name": "stdout"
        }
      ]
    },
    {
      "cell_type": "markdown",
      "metadata": {
        "id": "WQe9XHVAcOWp",
        "colab_type": "text"
      },
      "source": [
        "##FUNCTIONS\n",
        "\n",
        "\n",
        "1.   For creating function use def as keyword\n",
        "2.   syntax;\n",
        "\n",
        "  def name(argument):\n",
        "\n",
        "  return\n",
        "\n"
      ]
    },
    {
      "cell_type": "code",
      "metadata": {
        "id": "i56UQDPJdGYZ",
        "colab_type": "code",
        "outputId": "9d09bc21-78bb-4dd0-fd05-25bc0bc7b140",
        "colab": {
          "base_uri": "https://localhost:8080/",
          "height": 34
        }
      },
      "source": [
        "def add(x,y):\n",
        " return x+y\n",
        "add(10,20)"
      ],
      "execution_count": 0,
      "outputs": [
        {
          "output_type": "execute_result",
          "data": {
            "text/plain": [
              "30"
            ]
          },
          "metadata": {
            "tags": []
          },
          "execution_count": 31
        }
      ]
    },
    {
      "cell_type": "code",
      "metadata": {
        "id": "6zEYPKz1eARa",
        "colab_type": "code",
        "outputId": "ae57131e-4156-450f-93a7-594d5e3efa9e",
        "colab": {
          "base_uri": "https://localhost:8080/",
          "height": 34
        }
      },
      "source": [
        "#print sum of even digits from 1to n\n",
        "def add(i,n):\n",
        " return i%2==0\n",
        "add(1,10)"
      ],
      "execution_count": 3,
      "outputs": [
        {
          "output_type": "execute_result",
          "data": {
            "text/plain": [
              "False"
            ]
          },
          "metadata": {
            "tags": []
          },
          "execution_count": 3
        }
      ]
    },
    {
      "cell_type": "code",
      "metadata": {
        "id": "N4NceSswfYl6",
        "colab_type": "code",
        "colab": {}
      },
      "source": [
        ""
      ],
      "execution_count": 0,
      "outputs": []
    }
  ]
}